{
  "cells": [
    {
      "cell_type": "markdown",
      "metadata": {
        "id": "view-in-github",
        "colab_type": "text"
      },
      "source": [
        "<a href=\"https://colab.research.google.com/github/rupaut98/LLM_Oreilly/blob/main/ag_news_topic_modeling.ipynb\" target=\"_parent\"><img src=\"https://colab.research.google.com/assets/colab-badge.svg\" alt=\"Open In Colab\"/></a>"
      ]
    },
    {
      "cell_type": "code",
      "execution_count": null,
      "metadata": {
        "id": "wguIO8_QHFao"
      },
      "outputs": [],
      "source": [
        "!pip install datasets\n",
        "from datasets import load_dataset\n",
        "dataset = load_dataset(\"ag_news\", split = 'train[:20%]')"
      ]
    },
    {
      "cell_type": "code",
      "execution_count": null,
      "metadata": {
        "id": "SAcF5zaOIHdJ"
      },
      "outputs": [],
      "source": [
        "dataset.info"
      ]
    },
    {
      "cell_type": "code",
      "execution_count": null,
      "metadata": {
        "id": "_ti1DGd5KTH1"
      },
      "outputs": [],
      "source": [
        "texts = dataset['text']\n",
        "labels = dataset['label']"
      ]
    },
    {
      "cell_type": "code",
      "source": [
        "print(labels)"
      ],
      "metadata": {
        "id": "rdYAlNmMVUL1"
      },
      "execution_count": null,
      "outputs": []
    },
    {
      "cell_type": "code",
      "execution_count": null,
      "metadata": {
        "id": "-u3LVSMKKqkU"
      },
      "outputs": [],
      "source": [
        "!pip install sentence-transformers\n",
        "from sentence_transformers import SentenceTransformer\n",
        "\n",
        "model = SentenceTransformer('sentence-transformers/paraphrase-MiniLM-L6-v2')"
      ]
    },
    {
      "cell_type": "code",
      "execution_count": null,
      "metadata": {
        "id": "NO9bdKTqLrRq"
      },
      "outputs": [],
      "source": [
        "embeddings = model.encode(texts, show_progress_bar = True)"
      ]
    },
    {
      "cell_type": "code",
      "execution_count": null,
      "metadata": {
        "id": "EZQcUToeLzWH"
      },
      "outputs": [],
      "source": [
        "!pip install umap-learn\n",
        "from umap import UMAP\n",
        "umap_model = UMAP(n_components = 5, min_dist = 0.0, metric = 'cosine', random_state = 42)"
      ]
    },
    {
      "cell_type": "code",
      "execution_count": null,
      "metadata": {
        "id": "cXKT6A3ML4mO"
      },
      "outputs": [],
      "source": [
        "reduced_embeddings = umap_model.fit_transform(embeddings)"
      ]
    },
    {
      "cell_type": "code",
      "execution_count": null,
      "metadata": {
        "id": "-PZ-MtarNKfV"
      },
      "outputs": [],
      "source": [
        "!pip install hdbscan"
      ]
    },
    {
      "cell_type": "code",
      "execution_count": null,
      "metadata": {
        "id": "UzKR7PBuNNrG"
      },
      "outputs": [],
      "source": [
        "from hdbscan import HDBSCAN\n",
        "hdb_model = HDBSCAN(min_cluster_size = 50, metric = 'euclidean', cluster_selection_method = 'eom')"
      ]
    },
    {
      "cell_type": "code",
      "execution_count": null,
      "metadata": {
        "id": "hx30SRq2N-CP"
      },
      "outputs": [],
      "source": [
        "cluster_outlier = hdb_model.outlier_scores_"
      ]
    },
    {
      "cell_type": "code",
      "execution_count": null,
      "metadata": {
        "id": "USDfeoHUOOXr"
      },
      "outputs": [],
      "source": [
        "!pip install pandas\n",
        "import pandas as pd\n",
        "cluster_outlier = pd.DataFrame(cluster_outlier)"
      ]
    },
    {
      "cell_type": "code",
      "execution_count": null,
      "metadata": {
        "id": "hcuzvLssOQBO"
      },
      "outputs": [],
      "source": [
        "import numpy as np\n",
        "\n",
        "for index in np.where(clusters == 1)[0][:5]:\n",
        "  print(texts[index][:200] + \"...\\n\")"
      ]
    },
    {
      "cell_type": "code",
      "execution_count": null,
      "metadata": {
        "id": "gR_C2YgLOsRy"
      },
      "outputs": [],
      "source": [
        "reduced_embeddings = UMAP(n_components = 2, min_dist = 0.0, metric = 'cosine', random_state = 42).fit_transform(embeddings)"
      ]
    },
    {
      "cell_type": "code",
      "execution_count": null,
      "metadata": {
        "id": "AtCAHx-xPcxo"
      },
      "outputs": [],
      "source": [
        "df = pd.DataFrame(reduced_embeddings, columns = ['x', 'y'])"
      ]
    },
    {
      "cell_type": "code",
      "execution_count": null,
      "metadata": {
        "id": "S_iY0lRQRYsM"
      },
      "outputs": [],
      "source": [
        "df['labels'] = labels\n",
        "df['cluster'] = [str(c) for c in clusters]\n",
        "\n",
        "clusters_df = df.loc[df.cluster != '-1', :]\n",
        "outliers_df = df.loc[df.cluster == '-1', :]\n"
      ]
    },
    {
      "cell_type": "code",
      "execution_count": null,
      "metadata": {
        "id": "a0gzjUjrRZ4K"
      },
      "outputs": [],
      "source": [
        "import matplotlib.pyplot as plt\n",
        "\n",
        "plt.scatter(outliers_df.x, outliers_df.y, alpha = 0.05, s=2, c= 'grey')\n",
        "plt.scatter(clusters_df.x, clusters_df.y, c = clusters_df.cluster.astype(int),alpha = 0.6, s=2, cmap=\"tab20b\")\n",
        "plt.axis(\"off\")"
      ]
    },
    {
      "cell_type": "code",
      "execution_count": null,
      "metadata": {
        "id": "0_sAEE4eSW42"
      },
      "outputs": [],
      "source": [
        "!pip install bertopic\n",
        "\n",
        "from bertopic import BERTopic\n",
        "topic_model = BERTopic(\n",
        "    embedding_model = model,\n",
        "    umap_model = umap_model,\n",
        "    hdbscan_model = hdb_model,\n",
        "    verbose = True\n",
        ").fit(texts)"
      ]
    },
    {
      "cell_type": "code",
      "execution_count": null,
      "metadata": {
        "id": "nOmLohHBXKKg"
      },
      "outputs": [],
      "source": [
        "topic_model.get_topic_info()"
      ]
    },
    {
      "cell_type": "code",
      "source": [
        "labels = [str(c) for c in labels]"
      ],
      "metadata": {
        "id": "ABnlJYzYVXh4"
      },
      "execution_count": null,
      "outputs": []
    },
    {
      "cell_type": "code",
      "source": [],
      "metadata": {
        "id": "hNAwoXw4mZ6-"
      },
      "execution_count": null,
      "outputs": []
    },
    {
      "cell_type": "code",
      "execution_count": null,
      "metadata": {
        "id": "jr8u3-OrXohy"
      },
      "outputs": [],
      "source": [
        "fig = topic_model.visualize_documents(\n",
        "    labels,\n",
        "    reduced_embeddings = reduced_embeddings,\n",
        "    width = 1200,\n",
        "    hide_annotations = True\n",
        ")\n",
        "\n",
        "fig.update_layout(font=dict(size=16))"
      ]
    },
    {
      "cell_type": "code",
      "execution_count": null,
      "metadata": {
        "id": "rtpDYBTyXywC"
      },
      "outputs": [],
      "source": []
    },
    {
      "cell_type": "code",
      "execution_count": null,
      "metadata": {
        "id": "ZULYONMBYbXF"
      },
      "outputs": [],
      "source": [
        "from copy import deepcopy\n",
        "original_topics = deepcopy(topic_model.topic_representations_)"
      ]
    },
    {
      "cell_type": "code",
      "source": [
        "result = original_topics[0]\n",
        "print(result)"
      ],
      "metadata": {
        "id": "toKspjvnW3_e"
      },
      "execution_count": null,
      "outputs": []
    },
    {
      "cell_type": "code",
      "source": [
        "def topic_differences(model, original_topics, nr_topics = 5):\n",
        "  df = pd.DataFrame(columns=['Topic', 'Original', 'Updated'])\n",
        "\n",
        "  for topic in range(nr_topics):\n",
        "    og_words = \" | \".join(list(zip(*original_topics[topic]))[0][:5])\n",
        "    new_words = \" | \".join(list(zip(*model.get_topic(topic)))[0][:5])\n",
        "    df.loc[len(df)] = [topic, og_words, new_words]\n",
        "\n",
        "  return df"
      ],
      "metadata": {
        "id": "vsO0ijgmYUQq"
      },
      "execution_count": null,
      "outputs": []
    },
    {
      "cell_type": "markdown",
      "source": [
        "from bertopic.represenation import KeyBERTInspired\n",
        "\n",
        "represenation_model = KeyBERTInspired()\n",
        "topic_model.update_topics(texts, representation_model = represenation_model)"
      ],
      "metadata": {
        "id": "RnDyScmaWN1C"
      }
    },
    {
      "cell_type": "code",
      "source": [
        "!pip install bertopic"
      ],
      "metadata": {
        "id": "Nu4SM0xsYQ6F"
      },
      "execution_count": null,
      "outputs": []
    },
    {
      "cell_type": "code",
      "source": [
        "from bertopic.representation import KeyBERTInspired\n",
        "\n",
        "represenation_model = KeyBERTInspired()\n",
        "topic_model.update_topics(texts, representation_model = represenation_model)"
      ],
      "metadata": {
        "id": "J2TOab2gYi03"
      },
      "execution_count": null,
      "outputs": []
    },
    {
      "cell_type": "markdown",
      "source": [],
      "metadata": {
        "id": "U-vkQFSVZ9ma"
      }
    },
    {
      "cell_type": "code",
      "source": [
        "topic_differences(topic_model, original_topics)"
      ],
      "metadata": {
        "id": "nisdI0McYqxW"
      },
      "execution_count": null,
      "outputs": []
    },
    {
      "cell_type": "code",
      "source": [
        "from bertopic.representation import MaximalMarginalRelevance\n",
        "\n",
        "represenation_model = MaximalMarginalRelevance(diversity = 0.2)\n",
        "topic_model.update_topics(texts, representation_model = represenation_model)\n",
        "\n",
        "topic_differences(topic_model, original_topics)"
      ],
      "metadata": {
        "id": "k7nBpYDMZpP4"
      },
      "execution_count": null,
      "outputs": []
    },
    {
      "cell_type": "code",
      "source": [
        "!pip install cohere\n",
        "!pip install tiktoken\n",
        "!pip uninstall typing-extensions -y quiet\n",
        "!pip install typing-extensions==4.5.0 --quiet\n",
        "!pip install --upgrade tensorflow-probability\n",
        "!pip install --upgrade --quiet openai\n",
        "\n",
        "import openai"
      ],
      "metadata": {
        "id": "BW_nBSpRaOPP"
      },
      "execution_count": null,
      "outputs": []
    },
    {
      "cell_type": "code",
      "source": [
        "import openai\n",
        "from bertopic.representation import OpenAI\n",
        "\n",
        "# Fine-tune topic representations with GPT\n",
        "prompt = \"\"\"\n",
        "I have a topic that contains the following documents:\n",
        "[DOCUMENTS]\n",
        "\n",
        "The topic is described by the following keywords: [KEYWORDS]\n",
        "\n",
        "Based on the information above, extract a short topic label in the following format:\n",
        "topic: <short topic label>\n",
        "\"\"\"\n",
        "client = openai.OpenAI(api_key=\"\")\n",
        "representation_model = OpenAI(client, model=\"gpt-3.5-turbo\", chat=True, exponential_backoff=True, prompt=prompt)\n",
        "topic_model = BERTopic(representation_model=representation_model)\n",
        "topic_model.update_topics(texts)\n",
        "\n",
        "topic_differences(topic_model, original_topics)"
      ],
      "metadata": {
        "id": "x0e3JiLxZ-cA"
      },
      "execution_count": null,
      "outputs": []
    },
    {
      "cell_type": "code",
      "source": [],
      "metadata": {
        "id": "4qEg7QRJa4Mv"
      },
      "execution_count": null,
      "outputs": []
    }
  ],
  "metadata": {
    "accelerator": "GPU",
    "colab": {
      "gpuType": "T4",
      "provenance": [],
      "authorship_tag": "ABX9TyMar0shykWJhVD1hBjZbOED",
      "include_colab_link": true
    },
    "kernelspec": {
      "display_name": "Python 3",
      "name": "python3"
    },
    "language_info": {
      "name": "python"
    }
  },
  "nbformat": 4,
  "nbformat_minor": 0
}